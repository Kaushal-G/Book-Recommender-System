{
 "cells": [
  {
   "cell_type": "markdown",
   "id": "8b0573db",
   "metadata": {},
   "source": [
    "# Book Recommender System\n",
    "Done by Kaushal Mishra"
   ]
  },
  {
   "cell_type": "code",
   "execution_count": null,
   "id": "ed7b0746",
   "metadata": {},
   "outputs": [],
   "source": [
    "#importing libraries\n",
    "import pandas as pd\n",
    "import numpy as np"
   ]
  },
  {
   "cell_type": "code",
   "execution_count": 2,
   "id": "752dd88a",
   "metadata": {},
   "outputs": [],
   "source": [
    "#loading the dataset\n",
    "books = pd.read_csv(r\"C:\\Users\\mishr\\OneDrive\\Desktop\\books dataset\\books_new.csv\")"
   ]
  },
  {
   "cell_type": "code",
   "execution_count": 4,
   "id": "aac8d1a7",
   "metadata": {},
   "outputs": [
    {
     "data": {
      "text/plain": [
       "(211, 6)"
      ]
     },
     "execution_count": 4,
     "metadata": {},
     "output_type": "execute_result"
    }
   ],
   "source": [
    "#Exploring the Data\n",
    "books.shape"
   ]
  },
  {
   "cell_type": "code",
   "execution_count": 5,
   "id": "ebb10af0",
   "metadata": {},
   "outputs": [
    {
     "data": {
      "text/html": [
       "<div>\n",
       "<style scoped>\n",
       "    .dataframe tbody tr th:only-of-type {\n",
       "        vertical-align: middle;\n",
       "    }\n",
       "\n",
       "    .dataframe tbody tr th {\n",
       "        vertical-align: top;\n",
       "    }\n",
       "\n",
       "    .dataframe thead th {\n",
       "        text-align: right;\n",
       "    }\n",
       "</style>\n",
       "<table border=\"1\" class=\"dataframe\">\n",
       "  <thead>\n",
       "    <tr style=\"text-align: right;\">\n",
       "      <th></th>\n",
       "      <th>Title</th>\n",
       "      <th>Author</th>\n",
       "      <th>Genre</th>\n",
       "      <th>SubGenre</th>\n",
       "      <th>Height</th>\n",
       "      <th>Publisher</th>\n",
       "    </tr>\n",
       "  </thead>\n",
       "  <tbody>\n",
       "    <tr>\n",
       "      <th>0</th>\n",
       "      <td>Fundamentals of Wavelets</td>\n",
       "      <td>Goswami, Jaideva</td>\n",
       "      <td>tech</td>\n",
       "      <td>signal_processing</td>\n",
       "      <td>228</td>\n",
       "      <td>Wiley</td>\n",
       "    </tr>\n",
       "    <tr>\n",
       "      <th>1</th>\n",
       "      <td>Data Smart</td>\n",
       "      <td>Foreman, John</td>\n",
       "      <td>tech</td>\n",
       "      <td>data_science</td>\n",
       "      <td>235</td>\n",
       "      <td>Wiley</td>\n",
       "    </tr>\n",
       "    <tr>\n",
       "      <th>2</th>\n",
       "      <td>God Created the Integers</td>\n",
       "      <td>Hawking, Stephen</td>\n",
       "      <td>tech</td>\n",
       "      <td>mathematics</td>\n",
       "      <td>197</td>\n",
       "      <td>Penguin</td>\n",
       "    </tr>\n",
       "    <tr>\n",
       "      <th>3</th>\n",
       "      <td>Superfreakonomics</td>\n",
       "      <td>Dubner, Stephen</td>\n",
       "      <td>science</td>\n",
       "      <td>economics</td>\n",
       "      <td>179</td>\n",
       "      <td>HarperCollins</td>\n",
       "    </tr>\n",
       "    <tr>\n",
       "      <th>4</th>\n",
       "      <td>Orientalism</td>\n",
       "      <td>Said, Edward</td>\n",
       "      <td>nonfiction</td>\n",
       "      <td>history</td>\n",
       "      <td>197</td>\n",
       "      <td>Penguin</td>\n",
       "    </tr>\n",
       "  </tbody>\n",
       "</table>\n",
       "</div>"
      ],
      "text/plain": [
       "                      Title            Author       Genre           SubGenre  \\\n",
       "0  Fundamentals of Wavelets  Goswami, Jaideva        tech  signal_processing   \n",
       "1                Data Smart     Foreman, John        tech       data_science   \n",
       "2  God Created the Integers  Hawking, Stephen        tech        mathematics   \n",
       "3         Superfreakonomics   Dubner, Stephen     science          economics   \n",
       "4               Orientalism      Said, Edward  nonfiction            history   \n",
       "\n",
       "   Height      Publisher  \n",
       "0     228          Wiley  \n",
       "1     235          Wiley  \n",
       "2     197        Penguin  \n",
       "3     179  HarperCollins  \n",
       "4     197        Penguin  "
      ]
     },
     "execution_count": 5,
     "metadata": {},
     "output_type": "execute_result"
    }
   ],
   "source": [
    "books.head()"
   ]
  },
  {
   "cell_type": "code",
   "execution_count": 6,
   "id": "42a68739",
   "metadata": {},
   "outputs": [
    {
     "data": {
      "text/html": [
       "<div>\n",
       "<style scoped>\n",
       "    .dataframe tbody tr th:only-of-type {\n",
       "        vertical-align: middle;\n",
       "    }\n",
       "\n",
       "    .dataframe tbody tr th {\n",
       "        vertical-align: top;\n",
       "    }\n",
       "\n",
       "    .dataframe thead th {\n",
       "        text-align: right;\n",
       "    }\n",
       "</style>\n",
       "<table border=\"1\" class=\"dataframe\">\n",
       "  <thead>\n",
       "    <tr style=\"text-align: right;\">\n",
       "      <th></th>\n",
       "      <th>Height</th>\n",
       "    </tr>\n",
       "  </thead>\n",
       "  <tbody>\n",
       "    <tr>\n",
       "      <th>count</th>\n",
       "      <td>211.000000</td>\n",
       "    </tr>\n",
       "    <tr>\n",
       "      <th>mean</th>\n",
       "      <td>206.056872</td>\n",
       "    </tr>\n",
       "    <tr>\n",
       "      <th>std</th>\n",
       "      <td>26.828141</td>\n",
       "    </tr>\n",
       "    <tr>\n",
       "      <th>min</th>\n",
       "      <td>160.000000</td>\n",
       "    </tr>\n",
       "    <tr>\n",
       "      <th>25%</th>\n",
       "      <td>180.000000</td>\n",
       "    </tr>\n",
       "    <tr>\n",
       "      <th>50%</th>\n",
       "      <td>199.000000</td>\n",
       "    </tr>\n",
       "    <tr>\n",
       "      <th>75%</th>\n",
       "      <td>229.500000</td>\n",
       "    </tr>\n",
       "    <tr>\n",
       "      <th>max</th>\n",
       "      <td>283.000000</td>\n",
       "    </tr>\n",
       "  </tbody>\n",
       "</table>\n",
       "</div>"
      ],
      "text/plain": [
       "           Height\n",
       "count  211.000000\n",
       "mean   206.056872\n",
       "std     26.828141\n",
       "min    160.000000\n",
       "25%    180.000000\n",
       "50%    199.000000\n",
       "75%    229.500000\n",
       "max    283.000000"
      ]
     },
     "execution_count": 6,
     "metadata": {},
     "output_type": "execute_result"
    }
   ],
   "source": [
    "books.describe()"
   ]
  },
  {
   "cell_type": "code",
   "execution_count": 7,
   "id": "13ce59e2",
   "metadata": {},
   "outputs": [
    {
     "data": {
      "text/plain": [
       "array(['Goswami, Jaideva'], dtype=object)"
      ]
     },
     "execution_count": 7,
     "metadata": {},
     "output_type": "execute_result"
    }
   ],
   "source": [
    "books.head(1)['Author'].values"
   ]
  },
  {
   "cell_type": "code",
   "execution_count": 8,
   "id": "73db3fc9",
   "metadata": {},
   "outputs": [],
   "source": [
    "#sorting out important columns\n",
    "books = books[['Title','Author','Genre','SubGenre']]"
   ]
  },
  {
   "cell_type": "code",
   "execution_count": 9,
   "id": "508fb58a",
   "metadata": {},
   "outputs": [
    {
     "data": {
      "text/html": [
       "<div>\n",
       "<style scoped>\n",
       "    .dataframe tbody tr th:only-of-type {\n",
       "        vertical-align: middle;\n",
       "    }\n",
       "\n",
       "    .dataframe tbody tr th {\n",
       "        vertical-align: top;\n",
       "    }\n",
       "\n",
       "    .dataframe thead th {\n",
       "        text-align: right;\n",
       "    }\n",
       "</style>\n",
       "<table border=\"1\" class=\"dataframe\">\n",
       "  <thead>\n",
       "    <tr style=\"text-align: right;\">\n",
       "      <th></th>\n",
       "      <th>Title</th>\n",
       "      <th>Author</th>\n",
       "      <th>Genre</th>\n",
       "      <th>SubGenre</th>\n",
       "    </tr>\n",
       "  </thead>\n",
       "  <tbody>\n",
       "    <tr>\n",
       "      <th>0</th>\n",
       "      <td>Fundamentals of Wavelets</td>\n",
       "      <td>Goswami, Jaideva</td>\n",
       "      <td>tech</td>\n",
       "      <td>signal_processing</td>\n",
       "    </tr>\n",
       "    <tr>\n",
       "      <th>1</th>\n",
       "      <td>Data Smart</td>\n",
       "      <td>Foreman, John</td>\n",
       "      <td>tech</td>\n",
       "      <td>data_science</td>\n",
       "    </tr>\n",
       "    <tr>\n",
       "      <th>2</th>\n",
       "      <td>God Created the Integers</td>\n",
       "      <td>Hawking, Stephen</td>\n",
       "      <td>tech</td>\n",
       "      <td>mathematics</td>\n",
       "    </tr>\n",
       "    <tr>\n",
       "      <th>3</th>\n",
       "      <td>Superfreakonomics</td>\n",
       "      <td>Dubner, Stephen</td>\n",
       "      <td>science</td>\n",
       "      <td>economics</td>\n",
       "    </tr>\n",
       "    <tr>\n",
       "      <th>4</th>\n",
       "      <td>Orientalism</td>\n",
       "      <td>Said, Edward</td>\n",
       "      <td>nonfiction</td>\n",
       "      <td>history</td>\n",
       "    </tr>\n",
       "  </tbody>\n",
       "</table>\n",
       "</div>"
      ],
      "text/plain": [
       "                      Title            Author       Genre           SubGenre\n",
       "0  Fundamentals of Wavelets  Goswami, Jaideva        tech  signal_processing\n",
       "1                Data Smart     Foreman, John        tech       data_science\n",
       "2  God Created the Integers  Hawking, Stephen        tech        mathematics\n",
       "3         Superfreakonomics   Dubner, Stephen     science          economics\n",
       "4               Orientalism      Said, Edward  nonfiction            history"
      ]
     },
     "execution_count": 9,
     "metadata": {},
     "output_type": "execute_result"
    }
   ],
   "source": [
    "books.head()"
   ]
  },
  {
   "cell_type": "code",
   "execution_count": 10,
   "id": "c34d5994",
   "metadata": {},
   "outputs": [
    {
     "data": {
      "text/plain": [
       "Title        0\n",
       "Author      24\n",
       "Genre        0\n",
       "SubGenre     0\n",
       "dtype: int64"
      ]
     },
     "execution_count": 10,
     "metadata": {},
     "output_type": "execute_result"
    }
   ],
   "source": [
    "#finding and removing missing values\n",
    "books.isnull().sum()"
   ]
  },
  {
   "cell_type": "code",
   "execution_count": 11,
   "id": "9be98b43",
   "metadata": {},
   "outputs": [
    {
     "data": {
      "text/plain": [
       "Title       0\n",
       "Author      0\n",
       "Genre       0\n",
       "SubGenre    0\n",
       "dtype: int64"
      ]
     },
     "execution_count": 11,
     "metadata": {},
     "output_type": "execute_result"
    }
   ],
   "source": [
    "books.dropna(inplace = True)\n",
    "books.isnull().sum()"
   ]
  },
  {
   "cell_type": "code",
   "execution_count": 12,
   "id": "94423bd6",
   "metadata": {},
   "outputs": [
    {
     "data": {
      "text/plain": [
       "(187, 4)"
      ]
     },
     "execution_count": 12,
     "metadata": {},
     "output_type": "execute_result"
    }
   ],
   "source": [
    "books.shape"
   ]
  },
  {
   "cell_type": "code",
   "execution_count": 13,
   "id": "75923588",
   "metadata": {},
   "outputs": [
    {
     "data": {
      "text/plain": [
       "1"
      ]
     },
     "execution_count": 13,
     "metadata": {},
     "output_type": "execute_result"
    }
   ],
   "source": [
    "#finding and removing duplicate values\n",
    "books.duplicated().sum()"
   ]
  },
  {
   "cell_type": "code",
   "execution_count": 14,
   "id": "7c1da6a2",
   "metadata": {},
   "outputs": [
    {
     "data": {
      "text/plain": [
       "0"
      ]
     },
     "execution_count": 14,
     "metadata": {},
     "output_type": "execute_result"
    }
   ],
   "source": [
    "books.drop_duplicates(subset = 'Title', keep = 'first', inplace = True)\n",
    "books.duplicated().sum()"
   ]
  },
  {
   "cell_type": "code",
   "execution_count": 15,
   "id": "a0ae7b70",
   "metadata": {},
   "outputs": [
    {
     "data": {
      "text/plain": [
       "<function ast.literal_eval(node_or_string)>"
      ]
     },
     "execution_count": 15,
     "metadata": {},
     "output_type": "execute_result"
    }
   ],
   "source": [
    "#covnert string of list to list (not used in this program)\n",
    "import ast\n",
    "ast.literal_eval"
   ]
  },
  {
   "cell_type": "code",
   "execution_count": 16,
   "id": "566251b8",
   "metadata": {},
   "outputs": [
    {
     "data": {
      "text/plain": [
       "Title       object\n",
       "Author      object\n",
       "Genre       object\n",
       "SubGenre    object\n",
       "dtype: object"
      ]
     },
     "execution_count": 16,
     "metadata": {},
     "output_type": "execute_result"
    }
   ],
   "source": [
    "books.dtypes"
   ]
  },
  {
   "cell_type": "code",
   "execution_count": 17,
   "id": "a53ceabd",
   "metadata": {
    "scrolled": true
   },
   "outputs": [
    {
     "data": {
      "text/html": [
       "<div>\n",
       "<style scoped>\n",
       "    .dataframe tbody tr th:only-of-type {\n",
       "        vertical-align: middle;\n",
       "    }\n",
       "\n",
       "    .dataframe tbody tr th {\n",
       "        vertical-align: top;\n",
       "    }\n",
       "\n",
       "    .dataframe thead th {\n",
       "        text-align: right;\n",
       "    }\n",
       "</style>\n",
       "<table border=\"1\" class=\"dataframe\">\n",
       "  <thead>\n",
       "    <tr style=\"text-align: right;\">\n",
       "      <th></th>\n",
       "      <th>Title</th>\n",
       "      <th>Author</th>\n",
       "      <th>Genre</th>\n",
       "      <th>SubGenre</th>\n",
       "    </tr>\n",
       "  </thead>\n",
       "  <tbody>\n",
       "    <tr>\n",
       "      <th>0</th>\n",
       "      <td>Fundamentals of Wavelets</td>\n",
       "      <td>Goswami, Jaideva</td>\n",
       "      <td>tech</td>\n",
       "      <td>signal_processing</td>\n",
       "    </tr>\n",
       "    <tr>\n",
       "      <th>1</th>\n",
       "      <td>Data Smart</td>\n",
       "      <td>Foreman, John</td>\n",
       "      <td>tech</td>\n",
       "      <td>data_science</td>\n",
       "    </tr>\n",
       "    <tr>\n",
       "      <th>2</th>\n",
       "      <td>God Created the Integers</td>\n",
       "      <td>Hawking, Stephen</td>\n",
       "      <td>tech</td>\n",
       "      <td>mathematics</td>\n",
       "    </tr>\n",
       "    <tr>\n",
       "      <th>3</th>\n",
       "      <td>Superfreakonomics</td>\n",
       "      <td>Dubner, Stephen</td>\n",
       "      <td>science</td>\n",
       "      <td>economics</td>\n",
       "    </tr>\n",
       "    <tr>\n",
       "      <th>4</th>\n",
       "      <td>Orientalism</td>\n",
       "      <td>Said, Edward</td>\n",
       "      <td>nonfiction</td>\n",
       "      <td>history</td>\n",
       "    </tr>\n",
       "  </tbody>\n",
       "</table>\n",
       "</div>"
      ],
      "text/plain": [
       "                      Title            Author       Genre           SubGenre\n",
       "0  Fundamentals of Wavelets  Goswami, Jaideva        tech  signal_processing\n",
       "1                Data Smart     Foreman, John        tech       data_science\n",
       "2  God Created the Integers  Hawking, Stephen        tech        mathematics\n",
       "3         Superfreakonomics   Dubner, Stephen     science          economics\n",
       "4               Orientalism      Said, Edward  nonfiction            history"
      ]
     },
     "execution_count": 17,
     "metadata": {},
     "output_type": "execute_result"
    }
   ],
   "source": [
    "books.head()"
   ]
  },
  {
   "cell_type": "code",
   "execution_count": 18,
   "id": "8719320d",
   "metadata": {},
   "outputs": [
    {
     "data": {
      "text/plain": [
       "array(['tech', 'science', 'nonfiction', 'fiction', 'philosophy'],\n",
       "      dtype=object)"
      ]
     },
     "execution_count": 18,
     "metadata": {},
     "output_type": "execute_result"
    }
   ],
   "source": [
    "books['Genre'].unique()"
   ]
  },
  {
   "cell_type": "code",
   "execution_count": 19,
   "id": "7c3e6924",
   "metadata": {},
   "outputs": [
    {
     "data": {
      "text/plain": [
       "array(['signal_processing', 'data_science', 'mathematics', 'economics',\n",
       "       'history', 'psychology', 'classic', 'computer_science', 'novel',\n",
       "       'science', 'autobiography', 'physics', 'objectivism', 'trivia',\n",
       "       'misc', 'poetry', 'education', 'philosophy', 'anthology', 'legal'],\n",
       "      dtype=object)"
      ]
     },
     "execution_count": 19,
     "metadata": {},
     "output_type": "execute_result"
    }
   ],
   "source": [
    "books['SubGenre'].unique()"
   ]
  },
  {
   "cell_type": "code",
   "execution_count": 20,
   "id": "5f0a730c",
   "metadata": {},
   "outputs": [
    {
     "data": {
      "text/plain": [
       "0        jaidevagoswami\n",
       "1           johnforeman\n",
       "2        stephenhawking\n",
       "3         stephendubner\n",
       "4            edwardsaid\n",
       "             ...       \n",
       "206          terencetao\n",
       "207         steveeddins\n",
       "208        georgeorwell\n",
       "209    fyodordostoevsky\n",
       "210      charlesdickens\n",
       "Name: Author, Length: 186, dtype: object"
      ]
     },
     "execution_count": 20,
     "metadata": {},
     "output_type": "execute_result"
    }
   ],
   "source": [
    "#making author names in firstnamelastname format\n",
    "books['Author'] = books['Author'].apply(lambda x: ''.join(x.split(',')[::-1]).strip().replace(',','').lower())\n",
    "books['Author']"
   ]
  },
  {
   "cell_type": "code",
   "execution_count": 21,
   "id": "a47a55be",
   "metadata": {},
   "outputs": [
    {
     "data": {
      "text/plain": [
       "0      signalprocessing\n",
       "1           datascience\n",
       "2           mathematics\n",
       "3             economics\n",
       "4               history\n",
       "             ...       \n",
       "206         mathematics\n",
       "207    signalprocessing\n",
       "208             classic\n",
       "209             classic\n",
       "210             classic\n",
       "Name: SubGenre, Length: 186, dtype: object"
      ]
     },
     "execution_count": 21,
     "metadata": {},
     "output_type": "execute_result"
    }
   ],
   "source": [
    "# removing _ from SubGenre column\n",
    "books['SubGenre'] = books['SubGenre'].apply(lambda x:x.replace('_',''))\n",
    "books['SubGenre']"
   ]
  },
  {
   "cell_type": "code",
   "execution_count": 22,
   "id": "da4fb975",
   "metadata": {},
   "outputs": [
    {
     "data": {
      "text/html": [
       "<div>\n",
       "<style scoped>\n",
       "    .dataframe tbody tr th:only-of-type {\n",
       "        vertical-align: middle;\n",
       "    }\n",
       "\n",
       "    .dataframe tbody tr th {\n",
       "        vertical-align: top;\n",
       "    }\n",
       "\n",
       "    .dataframe thead th {\n",
       "        text-align: right;\n",
       "    }\n",
       "</style>\n",
       "<table border=\"1\" class=\"dataframe\">\n",
       "  <thead>\n",
       "    <tr style=\"text-align: right;\">\n",
       "      <th></th>\n",
       "      <th>Title</th>\n",
       "      <th>Author</th>\n",
       "      <th>Genre</th>\n",
       "      <th>SubGenre</th>\n",
       "    </tr>\n",
       "  </thead>\n",
       "  <tbody>\n",
       "    <tr>\n",
       "      <th>0</th>\n",
       "      <td>Fundamentals of Wavelets</td>\n",
       "      <td>jaidevagoswami</td>\n",
       "      <td>tech</td>\n",
       "      <td>signalprocessing</td>\n",
       "    </tr>\n",
       "    <tr>\n",
       "      <th>1</th>\n",
       "      <td>Data Smart</td>\n",
       "      <td>johnforeman</td>\n",
       "      <td>tech</td>\n",
       "      <td>datascience</td>\n",
       "    </tr>\n",
       "    <tr>\n",
       "      <th>2</th>\n",
       "      <td>God Created the Integers</td>\n",
       "      <td>stephenhawking</td>\n",
       "      <td>tech</td>\n",
       "      <td>mathematics</td>\n",
       "    </tr>\n",
       "    <tr>\n",
       "      <th>3</th>\n",
       "      <td>Superfreakonomics</td>\n",
       "      <td>stephendubner</td>\n",
       "      <td>science</td>\n",
       "      <td>economics</td>\n",
       "    </tr>\n",
       "    <tr>\n",
       "      <th>4</th>\n",
       "      <td>Orientalism</td>\n",
       "      <td>edwardsaid</td>\n",
       "      <td>nonfiction</td>\n",
       "      <td>history</td>\n",
       "    </tr>\n",
       "  </tbody>\n",
       "</table>\n",
       "</div>"
      ],
      "text/plain": [
       "                      Title          Author       Genre          SubGenre\n",
       "0  Fundamentals of Wavelets  jaidevagoswami        tech  signalprocessing\n",
       "1                Data Smart     johnforeman        tech       datascience\n",
       "2  God Created the Integers  stephenhawking        tech       mathematics\n",
       "3         Superfreakonomics   stephendubner     science         economics\n",
       "4               Orientalism      edwardsaid  nonfiction           history"
      ]
     },
     "execution_count": 22,
     "metadata": {},
     "output_type": "execute_result"
    }
   ],
   "source": [
    " books.head()"
   ]
  },
  {
   "cell_type": "code",
   "execution_count": 23,
   "id": "4671703f",
   "metadata": {},
   "outputs": [
    {
     "name": "stdout",
     "output_type": "stream",
     "text": [
      "The column Author has the following repeated values:\n",
      " - johnsteinbeck: 8 times\n",
      " - p ldeshpande: 7 times\n",
      " - alexrutherford: 5 times\n",
      " - aynrand: 4 times\n",
      " - william smaugham: 4 times\n",
      " - amartyasen: 4 times\n",
      " - steiglarsson: 3 times\n",
      " - dominiquelapierre: 3 times\n",
      " - shashitharoor: 3 times\n",
      " - bertrandrussell: 3 times\n",
      " - williamdalrymple: 3 times\n",
      " - fritjofcapra: 3 times\n",
      " - deshpande p l: 3 times\n",
      " - frederickforsyth: 3 times\n",
      " - jefferyarcher: 2 times\n",
      " - robertfisk: 2 times\n",
      " - arthur conandoyle: 2 times\n",
      " - yashwantkanetkar: 2 times\n",
      " - simonsingh: 2 times\n",
      " - terencetao: 2 times\n",
      " - peterdrucker: 2 times\n",
      " - georgeorwell: 2 times\n",
      " - bobwoodward: 2 times\n",
      " - stephenhawking: 2 times\n",
      " - stephendubner: 2 times\n",
      " - vladimirvapnik: 2 times\n",
      " - richardgordon: 2 times\n",
      " - fyodordostoevsky: 2 times\n",
      " - palkhivala: 2 times\n",
      "The column Genre has the following repeated values:\n",
      " - fiction: 59 times\n",
      " - nonfiction: 56 times\n",
      " - tech: 36 times\n",
      " - science: 21 times\n",
      " - philosophy: 14 times\n",
      "The column SubGenre has the following repeated values:\n",
      " - novel: 35 times\n",
      " - history: 33 times\n",
      " - classic: 24 times\n",
      " - datascience: 14 times\n",
      " - mathematics: 11 times\n",
      " - autobiography: 10 times\n",
      " - economics: 10 times\n",
      " - computerscience: 10 times\n",
      " - misc: 7 times\n",
      " - signalprocessing: 7 times\n",
      " - physics: 6 times\n",
      " - philosophy: 6 times\n",
      " - objectivism: 3 times\n",
      " - science: 2 times\n",
      " - psychology: 2 times\n",
      " - legal: 2 times\n"
     ]
    }
   ],
   "source": [
    "#checking how many times the values are repeated in the columns, just for analysis\n",
    "\n",
    "repeated_values = {}\n",
    "\n",
    "# loop through each column in the dataframe\n",
    "for col in books.columns:\n",
    "    # check if the column has any repeated values\n",
    "    if books.duplicated(subset=[col]).any():\n",
    "        # find the counts of each value in the column\n",
    "        value_counts = books[col].value_counts()\n",
    "        # filter the value counts to only include the repeated values\n",
    "        repeated_counts = value_counts[value_counts > 1]\n",
    "        # store the repeated counts in the dictionary\n",
    "        repeated_values[col] = repeated_counts.to_dict()\n",
    "\n",
    "# print the result\n",
    "if len(repeated_values) > 0:\n",
    "    for col, counts in repeated_values.items():\n",
    "        print(f\"The column {col} has the following repeated values:\")\n",
    "        for value, count in counts.items():\n",
    "            print(f\" - {value}: {count} times\")\n",
    "else:\n",
    "    print(\"There are no repeated values in any column\")"
   ]
  },
  {
   "cell_type": "code",
   "execution_count": 50,
   "id": "bf65abcd",
   "metadata": {},
   "outputs": [
    {
     "data": {
      "text/html": [
       "<div>\n",
       "<style scoped>\n",
       "    .dataframe tbody tr th:only-of-type {\n",
       "        vertical-align: middle;\n",
       "    }\n",
       "\n",
       "    .dataframe tbody tr th {\n",
       "        vertical-align: top;\n",
       "    }\n",
       "\n",
       "    .dataframe thead th {\n",
       "        text-align: right;\n",
       "    }\n",
       "</style>\n",
       "<table border=\"1\" class=\"dataframe\">\n",
       "  <thead>\n",
       "    <tr style=\"text-align: right;\">\n",
       "      <th></th>\n",
       "      <th>Title</th>\n",
       "      <th>Author</th>\n",
       "      <th>Genre</th>\n",
       "      <th>SubGenre</th>\n",
       "      <th>Tags</th>\n",
       "    </tr>\n",
       "  </thead>\n",
       "  <tbody>\n",
       "    <tr>\n",
       "      <th>0</th>\n",
       "      <td>Fundamentals of Wavelets</td>\n",
       "      <td>jaidevagoswami</td>\n",
       "      <td>tech</td>\n",
       "      <td>signalprocessing</td>\n",
       "      <td>jaidevagoswami,tech,signalprocessing</td>\n",
       "    </tr>\n",
       "    <tr>\n",
       "      <th>1</th>\n",
       "      <td>Data Smart</td>\n",
       "      <td>johnforeman</td>\n",
       "      <td>tech</td>\n",
       "      <td>datascience</td>\n",
       "      <td>johnforeman,tech,datascience</td>\n",
       "    </tr>\n",
       "    <tr>\n",
       "      <th>2</th>\n",
       "      <td>God Created the Integers</td>\n",
       "      <td>stephenhawking</td>\n",
       "      <td>tech</td>\n",
       "      <td>mathematics</td>\n",
       "      <td>stephenhawking,tech,mathematics</td>\n",
       "    </tr>\n",
       "    <tr>\n",
       "      <th>3</th>\n",
       "      <td>Superfreakonomics</td>\n",
       "      <td>stephendubner</td>\n",
       "      <td>science</td>\n",
       "      <td>economics</td>\n",
       "      <td>stephendubner,science,economics</td>\n",
       "    </tr>\n",
       "    <tr>\n",
       "      <th>4</th>\n",
       "      <td>Orientalism</td>\n",
       "      <td>edwardsaid</td>\n",
       "      <td>nonfiction</td>\n",
       "      <td>history</td>\n",
       "      <td>edwardsaid,nonfiction,history</td>\n",
       "    </tr>\n",
       "  </tbody>\n",
       "</table>\n",
       "</div>"
      ],
      "text/plain": [
       "                      Title          Author       Genre          SubGenre  \\\n",
       "0  Fundamentals of Wavelets  jaidevagoswami        tech  signalprocessing   \n",
       "1                Data Smart     johnforeman        tech       datascience   \n",
       "2  God Created the Integers  stephenhawking        tech       mathematics   \n",
       "3         Superfreakonomics   stephendubner     science         economics   \n",
       "4               Orientalism      edwardsaid  nonfiction           history   \n",
       "\n",
       "                                   Tags  \n",
       "0  jaidevagoswami,tech,signalprocessing  \n",
       "1          johnforeman,tech,datascience  \n",
       "2       stephenhawking,tech,mathematics  \n",
       "3       stephendubner,science,economics  \n",
       "4         edwardsaid,nonfiction,history  "
      ]
     },
     "execution_count": 50,
     "metadata": {},
     "output_type": "execute_result"
    }
   ],
   "source": [
    "#making a new column 'Tags'\n",
    "books['Tags'] = books['Author'] + ',' + books['Genre'] + ',' + books['SubGenre']\n",
    "books.head()"
   ]
  },
  {
   "cell_type": "code",
   "execution_count": 51,
   "id": "e273983c",
   "metadata": {},
   "outputs": [
    {
     "data": {
      "text/html": [
       "<div>\n",
       "<style scoped>\n",
       "    .dataframe tbody tr th:only-of-type {\n",
       "        vertical-align: middle;\n",
       "    }\n",
       "\n",
       "    .dataframe tbody tr th {\n",
       "        vertical-align: top;\n",
       "    }\n",
       "\n",
       "    .dataframe thead th {\n",
       "        text-align: right;\n",
       "    }\n",
       "</style>\n",
       "<table border=\"1\" class=\"dataframe\">\n",
       "  <thead>\n",
       "    <tr style=\"text-align: right;\">\n",
       "      <th></th>\n",
       "      <th>Title</th>\n",
       "      <th>Tags</th>\n",
       "    </tr>\n",
       "  </thead>\n",
       "  <tbody>\n",
       "    <tr>\n",
       "      <th>0</th>\n",
       "      <td>Fundamentals of Wavelets</td>\n",
       "      <td>jaidevagoswami,tech,signalprocessing</td>\n",
       "    </tr>\n",
       "    <tr>\n",
       "      <th>1</th>\n",
       "      <td>Data Smart</td>\n",
       "      <td>johnforeman,tech,datascience</td>\n",
       "    </tr>\n",
       "    <tr>\n",
       "      <th>2</th>\n",
       "      <td>God Created the Integers</td>\n",
       "      <td>stephenhawking,tech,mathematics</td>\n",
       "    </tr>\n",
       "    <tr>\n",
       "      <th>3</th>\n",
       "      <td>Superfreakonomics</td>\n",
       "      <td>stephendubner,science,economics</td>\n",
       "    </tr>\n",
       "    <tr>\n",
       "      <th>4</th>\n",
       "      <td>Orientalism</td>\n",
       "      <td>edwardsaid,nonfiction,history</td>\n",
       "    </tr>\n",
       "  </tbody>\n",
       "</table>\n",
       "</div>"
      ],
      "text/plain": [
       "                      Title                                  Tags\n",
       "0  Fundamentals of Wavelets  jaidevagoswami,tech,signalprocessing\n",
       "1                Data Smart          johnforeman,tech,datascience\n",
       "2  God Created the Integers       stephenhawking,tech,mathematics\n",
       "3         Superfreakonomics       stephendubner,science,economics\n",
       "4               Orientalism         edwardsaid,nonfiction,history"
      ]
     },
     "execution_count": 51,
     "metadata": {},
     "output_type": "execute_result"
    }
   ],
   "source": [
    "#new dataset which only has title and tags columns\n",
    "new_df = books[['Title','Tags']]\n",
    "new_df.head()"
   ]
  },
  {
   "cell_type": "code",
   "execution_count": 64,
   "id": "2162d1b6",
   "metadata": {},
   "outputs": [],
   "source": [
    "#Now building ML model from sklearn\n",
    "#Vectoring the tags\n",
    "from sklearn.feature_extraction.text import CountVectorizer\n",
    "cv = CountVectorizer (max_features = 200)"
   ]
  },
  {
   "cell_type": "code",
   "execution_count": 53,
   "id": "dc84761f",
   "metadata": {},
   "outputs": [],
   "source": [
    "vectors = cv.fit_transform(new_df['Tags']).toarray()"
   ]
  },
  {
   "cell_type": "code",
   "execution_count": 54,
   "id": "01415342",
   "metadata": {},
   "outputs": [
    {
     "data": {
      "text/plain": [
       "array([[0, 0, 0, ..., 0, 0, 0],\n",
       "       [0, 0, 0, ..., 0, 0, 0],\n",
       "       [0, 0, 0, ..., 0, 0, 0],\n",
       "       ...,\n",
       "       [0, 0, 0, ..., 0, 0, 0],\n",
       "       [0, 0, 0, ..., 0, 0, 0],\n",
       "       [0, 0, 0, ..., 0, 0, 0]], dtype=int64)"
      ]
     },
     "execution_count": 54,
     "metadata": {},
     "output_type": "execute_result"
    }
   ],
   "source": [
    "vectors"
   ]
  },
  {
   "cell_type": "code",
   "execution_count": 55,
   "id": "12340897",
   "metadata": {},
   "outputs": [
    {
     "data": {
      "text/plain": [
       "array([0, 0, 0, 0, 0, 0, 0, 0, 0, 0, 0, 0, 0, 0, 0, 0, 0, 0, 0, 0, 0, 0,\n",
       "       0, 0, 0, 0, 0, 0, 0, 0, 0, 0, 0, 0, 0, 0, 0, 0, 0, 0, 0, 0, 0, 0,\n",
       "       0, 0, 0, 0, 0, 0, 0, 0, 0, 0, 0, 0, 0, 0, 0, 1, 0, 0, 0, 0, 0, 0,\n",
       "       0, 0, 0, 0, 0, 0, 0, 0, 0, 0, 0, 0, 0, 0, 0, 0, 0, 0, 0, 0, 0, 0,\n",
       "       0, 0, 0, 0, 0, 0, 0, 0, 0, 0, 0, 0, 0, 0, 0, 0, 0, 0, 0, 0, 0, 0,\n",
       "       0, 0, 0, 0, 0, 0, 0, 0, 0, 0, 0, 0, 0, 0, 0, 0, 0, 0, 1, 0, 0, 0,\n",
       "       0, 0, 0, 0, 0, 0, 0, 0, 0, 0, 1, 0, 0, 0, 0, 0, 0, 0, 0, 0, 0, 0,\n",
       "       0, 0, 0, 0], dtype=int64)"
      ]
     },
     "execution_count": 55,
     "metadata": {},
     "output_type": "execute_result"
    }
   ],
   "source": [
    "vectors[0]"
   ]
  },
  {
   "cell_type": "code",
   "execution_count": 58,
   "id": "0f38317f",
   "metadata": {},
   "outputs": [
    {
     "data": {
      "text/plain": [
       "array(['abrahameraly', 'adamsmith', 'adolfhitler', 'albertcamus',\n",
       "       'aldoushuxley', 'alexrutherford', 'alfredstonier', 'allendowney',\n",
       "       'allenpoe', 'amartyasen', 'amiraczel', 'amitavghosh',\n",
       "       'andrewtanenbaum', 'andyoram', 'anthology', 'arthur',\n",
       "       'autobiography', 'aynrand', 'bbc', 'bertrandrussell', 'bobdylan',\n",
       "       'bobwoodward', 'braithwaite', 'carlsagan', 'cedricvillani',\n",
       "       'charlesdickens', 'classic', 'computerscience', 'conandoyle',\n",
       "       'danbrown', 'datascience', 'davidbodanis', 'davidforsyth',\n",
       "       'deshpande', 'dominiquelapierre', 'drewconway', 'earle',\n",
       "       'economics', 'edgar', 'education', 'edwardsaid', 'ericraymond',\n",
       "       'ernesthemingway', 'fiction', 'frankkafka', 'frankshih',\n",
       "       'frederickforsyth', 'fritjofcapra', 'fyodordostoevsky',\n",
       "       'garybradsky', 'georgeorwell', 'geralddurrell', 'geraldsussman',\n",
       "       'greene', 'gutierrez', 'gwells', 'hartduda', 'history',\n",
       "       'hussainzaidi', 'jaidevagoswami', 'jamesgleick', 'jawaharlalnehru',\n",
       "       'jeansassoon', 'jefferyarcher', 'jimcorbett', 'johnforeman',\n",
       "       'johngrisham', 'johnpratt', 'johnsteinbeck', 'jonathanstroud',\n",
       "       'josephheller', 'joythomas', 'julesverne', 'kautiyla',\n",
       "       'keithdevlin', 'kenfollett', 'krowling', 'kuldipnayar',\n",
       "       'kurtvonnegut', 'ldeshpande', 'leeiacoca', 'legal',\n",
       "       'leonardmlodinow', 'lorrainehansberry', 'machiavelli',\n",
       "       'madangupta', 'mariakonnikova', 'mathematics', 'michaelbaz',\n",
       "       'michaelcrichton', 'misc', 'morriswest', 'muhammadrashid',\n",
       "       'naipaul', 'nariman', 'natesilver', 'nedmohan', 'nonfiction',\n",
       "       'novel', 'objectivism', 'palkhivala', 'peterackroyd',\n",
       "       'peterdickinson', 'peterdrucker', 'phillipjanert', 'philosophy',\n",
       "       'physics', 'pkale', 'pmenon', 'poetry', 'psychology',\n",
       "       'randypausch', 'richardbach', 'richarddawkins', 'richardfeynman',\n",
       "       'richardgordon', 'robertfisk', 'robertnisbet', 'robertpirsig',\n",
       "       'samharris', 'samuelhuntington', 'sanjaygarg', 'schillingtaub',\n",
       "       'science', 'sebastian', 'sergiofranco', 'shashitharoor',\n",
       "       'siddharthadeb', 'signalprocessing', 'simonhaykin', 'simonsingh',\n",
       "       'smaugham', 'snaipaul', 'sorabjee', 'stanleygardner',\n",
       "       'steiglarsson', 'stephendubner', 'stephenhawking', 'steveeddins',\n",
       "       'sudhanshuranjan', 'sunitadeshpande', 'tbell', 'tech',\n",
       "       'terencetao', 'thomascormen', 'thomasfriedman', 'trivia',\n",
       "       'various', 'victorhugo', 'vladimirvapnik', 'wells',\n",
       "       'wernerheisenberg', 'wesmckinney', 'willdurant', 'william',\n",
       "       'williamdalrymple', 'yashwantkanetkar', 'zohar'], dtype=object)"
      ]
     },
     "execution_count": 58,
     "metadata": {},
     "output_type": "execute_result"
    }
   ],
   "source": [
    "cv.get_feature_names_out()"
   ]
  },
  {
   "cell_type": "code",
   "execution_count": 60,
   "id": "cafbfa87",
   "metadata": {},
   "outputs": [
    {
     "data": {
      "text/plain": [
       "158"
      ]
     },
     "execution_count": 60,
     "metadata": {},
     "output_type": "execute_result"
    }
   ],
   "source": [
    "len(cv.get_feature_names_out())"
   ]
  },
  {
   "cell_type": "code",
   "execution_count": 66,
   "id": "0d3121d6",
   "metadata": {},
   "outputs": [],
   "source": [
    "#finding cosine similarity between vectors\n",
    "from sklearn.metrics.pairwise import cosine_similarity"
   ]
  },
  {
   "cell_type": "code",
   "execution_count": 72,
   "id": "f821c144",
   "metadata": {},
   "outputs": [],
   "source": [
    "similarity = cosine_similarity(vectors)"
   ]
  },
  {
   "cell_type": "code",
   "execution_count": 73,
   "id": "b9d72dbe",
   "metadata": {},
   "outputs": [
    {
     "data": {
      "text/plain": [
       "(186, 186)"
      ]
     },
     "execution_count": 73,
     "metadata": {},
     "output_type": "execute_result"
    }
   ],
   "source": [
    "cosine_similarity(vectors).shape"
   ]
  },
  {
   "cell_type": "code",
   "execution_count": 74,
   "id": "44ce805d",
   "metadata": {},
   "outputs": [
    {
     "data": {
      "text/plain": [
       "array([[1.        , 0.33333333, 0.33333333, ..., 0.        , 0.        ,\n",
       "        0.        ],\n",
       "       [0.33333333, 1.        , 0.33333333, ..., 0.        , 0.        ,\n",
       "        0.        ],\n",
       "       [0.33333333, 0.33333333, 1.        , ..., 0.        , 0.        ,\n",
       "        0.        ],\n",
       "       ...,\n",
       "       [0.        , 0.        , 0.        , ..., 1.        , 0.66666667,\n",
       "        0.66666667],\n",
       "       [0.        , 0.        , 0.        , ..., 0.66666667, 1.        ,\n",
       "        0.66666667],\n",
       "       [0.        , 0.        , 0.        , ..., 0.66666667, 0.66666667,\n",
       "        1.        ]])"
      ]
     },
     "execution_count": 74,
     "metadata": {},
     "output_type": "execute_result"
    }
   ],
   "source": [
    "similarity"
   ]
  },
  {
   "cell_type": "code",
   "execution_count": 77,
   "id": "7b745829",
   "metadata": {},
   "outputs": [
    {
     "data": {
      "text/plain": [
       "array([1.        , 0.33333333, 0.33333333, 0.        , 0.        ,\n",
       "       0.33333333, 0.        , 0.        , 0.66666667, 0.        ,\n",
       "       0.28867513, 0.        , 0.        , 0.33333333, 0.        ,\n",
       "       0.        , 0.33333333, 0.33333333, 0.        , 0.        ,\n",
       "       0.33333333, 0.33333333, 0.33333333, 0.33333333, 0.33333333,\n",
       "       0.33333333, 0.        , 0.        , 0.        , 0.        ,\n",
       "       0.        , 0.        , 0.        , 0.        , 0.        ,\n",
       "       0.        , 0.        , 0.        , 0.        , 0.        ,\n",
       "       0.        , 0.        , 0.        , 0.        , 0.        ,\n",
       "       0.        , 0.        , 0.        , 0.        , 0.        ,\n",
       "       0.        , 0.        , 0.        , 0.        , 0.        ,\n",
       "       0.33333333, 0.33333333, 0.33333333, 0.66666667, 0.33333333,\n",
       "       0.66666667, 0.66666667, 0.33333333, 0.        , 0.        ,\n",
       "       0.        , 0.        , 0.        , 0.        , 0.        ,\n",
       "       0.        , 0.        , 0.        , 0.        , 0.        ,\n",
       "       0.33333333, 0.        , 0.        , 0.        , 0.        ,\n",
       "       0.        , 0.        , 0.        , 0.        , 0.        ,\n",
       "       0.        , 0.        , 0.        , 0.        , 0.        ,\n",
       "       0.        , 0.        , 0.        , 0.        , 0.        ,\n",
       "       0.        , 0.        , 0.        , 0.        , 0.        ,\n",
       "       0.        , 0.        , 0.        , 0.        , 0.        ,\n",
       "       0.        , 0.        , 0.        , 0.        , 0.        ,\n",
       "       0.        , 0.        , 0.        , 0.        , 0.        ,\n",
       "       0.        , 0.        , 0.        , 0.        , 0.        ,\n",
       "       0.        , 0.        , 0.        , 0.        , 0.        ,\n",
       "       0.        , 0.        , 0.        , 0.33333333, 0.        ,\n",
       "       0.        , 0.        , 0.        , 0.        , 0.        ,\n",
       "       0.66666667, 0.33333333, 0.33333333, 0.33333333, 0.        ,\n",
       "       0.        , 0.33333333, 0.        , 0.        , 0.        ,\n",
       "       0.        , 0.        , 0.        , 0.        , 0.        ,\n",
       "       0.        , 0.        , 0.        , 0.33333333, 0.33333333,\n",
       "       0.33333333, 0.33333333, 0.        , 0.        , 0.        ,\n",
       "       0.33333333, 0.        , 0.        , 0.        , 0.        ,\n",
       "       0.        , 0.        , 0.        , 0.        , 0.        ,\n",
       "       0.        , 0.        , 0.        , 0.        , 0.        ,\n",
       "       0.        , 0.        , 0.        , 0.        , 0.        ,\n",
       "       0.        , 0.        , 0.66666667, 0.        , 0.        ,\n",
       "       0.        ])"
      ]
     },
     "execution_count": 77,
     "metadata": {},
     "output_type": "execute_result"
    }
   ],
   "source": [
    "similarity[0]"
   ]
  },
  {
   "cell_type": "code",
   "execution_count": 98,
   "id": "159e9efe",
   "metadata": {},
   "outputs": [
    {
     "data": {
      "text/plain": [
       "[(8, 0.6666666666666669),\n",
       " (58, 0.6666666666666669),\n",
       " (60, 0.6666666666666669),\n",
       " (61, 0.6666666666666669),\n",
       " (135, 0.6666666666666669)]"
      ]
     },
     "execution_count": 98,
     "metadata": {},
     "output_type": "execute_result"
    }
   ],
   "source": [
    "#code forfinding index of similar books\n",
    "sorted(list(enumerate(similarity[0])),reverse=True,key= lambda x:x[1])[1:6]"
   ]
  },
  {
   "cell_type": "code",
   "execution_count": 111,
   "id": "21603fe0",
   "metadata": {},
   "outputs": [],
   "source": [
    "#recommender function\n",
    "def recommend(book):\n",
    "    book_index = new_df[new_df['Title'] == book].index[0]\n",
    "    distances = similarity[book_index]\n",
    "    books_list = sorted(list(enumerate(distances)),reverse=True,key= lambda x:x[1])[1:6]\n",
    "    \n",
    "    for i in books_list:\n",
    "        print(new_df.iloc[i[0]].Title)\n",
    "        \n",
    "  "
   ]
  },
  {
   "cell_type": "code",
   "execution_count": 113,
   "id": "b73dff16",
   "metadata": {},
   "outputs": [
    {
     "name": "stdout",
     "output_type": "stream",
     "text": [
      "Nature of Statistical Learning Theory, The\n",
      "Statistical Decision Theory'\n",
      "Data Mining Handbook\n",
      "Machine Learning for Hackers\n",
      "Signal and the Noise, The\n"
     ]
    }
   ],
   "source": [
    "recommend('Data Smart')"
   ]
  },
  {
   "cell_type": "code",
   "execution_count": 110,
   "id": "43c8daf1",
   "metadata": {},
   "outputs": [
    {
     "data": {
      "text/plain": [
       "'Image Processing & Mathematical Morphology'"
      ]
     },
     "execution_count": 110,
     "metadata": {},
     "output_type": "execute_result"
    }
   ],
   "source": [
    "new_df.iloc[8].Title"
   ]
  },
  {
   "cell_type": "code",
   "execution_count": null,
   "id": "6e332c12",
   "metadata": {},
   "outputs": [],
   "source": []
  }
 ],
 "metadata": {
  "kernelspec": {
   "display_name": "Python 3 (ipykernel)",
   "language": "python",
   "name": "python3"
  },
  "language_info": {
   "codemirror_mode": {
    "name": "ipython",
    "version": 3
   },
   "file_extension": ".py",
   "mimetype": "text/x-python",
   "name": "python",
   "nbconvert_exporter": "python",
   "pygments_lexer": "ipython3",
   "version": "3.9.12"
  }
 },
 "nbformat": 4,
 "nbformat_minor": 5
}
